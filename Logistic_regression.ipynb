{
  "nbformat": 4,
  "nbformat_minor": 0,
  "metadata": {
    "colab": {
      "name": "Logistic_regression.ipynb",
      "provenance": [],
      "toc_visible": true
    },
    "kernelspec": {
      "name": "python3",
      "display_name": "Python 3"
    }
  },
  "cells": [
    {
      "cell_type": "code",
      "metadata": {
        "id": "Q6OykaMJ2zn5",
        "colab_type": "code",
        "colab": {}
      },
      "source": [
        "#importing the libraries\n",
        "import numpy as np\n",
        "import pandas as pd\n",
        "import matplotlib.pyplot as plt"
      ],
      "execution_count": 35,
      "outputs": []
    },
    {
      "cell_type": "code",
      "metadata": {
        "id": "mtx16D807L9H",
        "colab_type": "code",
        "colab": {}
      },
      "source": [
        "#loading the data\n",
        "data = pd.read_csv(\"HomeBuyer.csv\")"
      ],
      "execution_count": 36,
      "outputs": []
    },
    {
      "cell_type": "code",
      "metadata": {
        "id": "GwQ1YY8c7VkP",
        "colab_type": "code",
        "colab": {
          "base_uri": "https://localhost:8080/",
          "height": 195
        },
        "outputId": "4275a9d1-c8c1-4f70-c9b9-7356e2349e9f"
      },
      "source": [
        "data.head()"
      ],
      "execution_count": 37,
      "outputs": [
        {
          "output_type": "execute_result",
          "data": {
            "text/html": [
              "<div>\n",
              "<style scoped>\n",
              "    .dataframe tbody tr th:only-of-type {\n",
              "        vertical-align: middle;\n",
              "    }\n",
              "\n",
              "    .dataframe tbody tr th {\n",
              "        vertical-align: top;\n",
              "    }\n",
              "\n",
              "    .dataframe thead th {\n",
              "        text-align: right;\n",
              "    }\n",
              "</style>\n",
              "<table border=\"1\" class=\"dataframe\">\n",
              "  <thead>\n",
              "    <tr style=\"text-align: right;\">\n",
              "      <th></th>\n",
              "      <th>Age</th>\n",
              "      <th>EstimatedSalary</th>\n",
              "      <th>Purchased</th>\n",
              "    </tr>\n",
              "  </thead>\n",
              "  <tbody>\n",
              "    <tr>\n",
              "      <th>0</th>\n",
              "      <td>19</td>\n",
              "      <td>19000</td>\n",
              "      <td>0</td>\n",
              "    </tr>\n",
              "    <tr>\n",
              "      <th>1</th>\n",
              "      <td>35</td>\n",
              "      <td>20000</td>\n",
              "      <td>0</td>\n",
              "    </tr>\n",
              "    <tr>\n",
              "      <th>2</th>\n",
              "      <td>26</td>\n",
              "      <td>43000</td>\n",
              "      <td>0</td>\n",
              "    </tr>\n",
              "    <tr>\n",
              "      <th>3</th>\n",
              "      <td>27</td>\n",
              "      <td>57000</td>\n",
              "      <td>0</td>\n",
              "    </tr>\n",
              "    <tr>\n",
              "      <th>4</th>\n",
              "      <td>19</td>\n",
              "      <td>76000</td>\n",
              "      <td>0</td>\n",
              "    </tr>\n",
              "  </tbody>\n",
              "</table>\n",
              "</div>"
            ],
            "text/plain": [
              "   Age  EstimatedSalary  Purchased\n",
              "0   19            19000          0\n",
              "1   35            20000          0\n",
              "2   26            43000          0\n",
              "3   27            57000          0\n",
              "4   19            76000          0"
            ]
          },
          "metadata": {
            "tags": []
          },
          "execution_count": 37
        }
      ]
    },
    {
      "cell_type": "code",
      "metadata": {
        "id": "xhPxLoX17X4b",
        "colab_type": "code",
        "colab": {}
      },
      "source": [
        "x = data.iloc[:,[0,1]].values\n",
        "y = data.iloc[:,2].values"
      ],
      "execution_count": 38,
      "outputs": []
    },
    {
      "cell_type": "code",
      "metadata": {
        "id": "7Etczwnh70Ex",
        "colab_type": "code",
        "colab": {}
      },
      "source": [
        "#splitting the data into train and test\n",
        "from sklearn.model_selection import train_test_split\n",
        "x_train,x_test,y_train,y_test = train_test_split(x,y,test_size=1/3,random_state=0)"
      ],
      "execution_count": 39,
      "outputs": []
    },
    {
      "cell_type": "code",
      "metadata": {
        "id": "tfdyKPZA8SR2",
        "colab_type": "code",
        "colab": {}
      },
      "source": [
        "#features scaling\n",
        "from sklearn.preprocessing import StandardScaler\n",
        "i_scalar = StandardScaler()\n",
        "x_train = i_scalar.fit_transform(x_train)\n",
        "x_test = i_scalar.transform(x_test)"
      ],
      "execution_count": 40,
      "outputs": []
    },
    {
      "cell_type": "markdown",
      "metadata": {
        "id": "MeW6UVse-ARz",
        "colab_type": "text"
      },
      "source": [
        "Feature scaling is done in order to normalise the data within a particular range. It helps in speeding up the calculations."
      ]
    },
    {
      "cell_type": "code",
      "metadata": {
        "id": "BPjlQZC09whS",
        "colab_type": "code",
        "colab": {
          "base_uri": "https://localhost:8080/",
          "height": 105
        },
        "outputId": "0def3b63-5f28-4a48-92f1-706c063122ac"
      },
      "source": [
        "##Fitting the Logistic regression to the train data. Logistic regression is a \n",
        "##linear classifier after which the data is divided by a straight line.\n",
        "from sklearn.linear_model import LogisticRegression\n",
        "LRClassifier = LogisticRegression(random_state=0)\n",
        "LRClassifier.fit(x_train,y_train)\n"
      ],
      "execution_count": 41,
      "outputs": [
        {
          "output_type": "execute_result",
          "data": {
            "text/plain": [
              "LogisticRegression(C=1.0, class_weight=None, dual=False, fit_intercept=True,\n",
              "                   intercept_scaling=1, l1_ratio=None, max_iter=100,\n",
              "                   multi_class='auto', n_jobs=None, penalty='l2',\n",
              "                   random_state=0, solver='lbfgs', tol=0.0001, verbose=0,\n",
              "                   warm_start=False)"
            ]
          },
          "metadata": {
            "tags": []
          },
          "execution_count": 41
        }
      ]
    },
    {
      "cell_type": "code",
      "metadata": {
        "id": "8QYJz6BH_FCI",
        "colab_type": "code",
        "colab": {
          "base_uri": "https://localhost:8080/",
          "height": 140
        },
        "outputId": "51dc72e4-c0a7-48fd-9a96-8c6d862cb2bb"
      },
      "source": [
        "#Predicting the values\n",
        "Prediction = LRClassifier.predict(x_test)\n",
        "\n",
        "\n",
        "Prediction"
      ],
      "execution_count": 42,
      "outputs": [
        {
          "output_type": "execute_result",
          "data": {
            "text/plain": [
              "array([0, 0, 0, 0, 0, 0, 0, 1, 0, 1, 0, 0, 0, 0, 0, 0, 0, 0, 1, 0, 0, 1,\n",
              "       0, 1, 0, 1, 0, 0, 0, 0, 0, 0, 1, 0, 0, 0, 0, 0, 0, 1, 0, 0, 0, 0,\n",
              "       1, 0, 0, 1, 0, 1, 1, 0, 0, 0, 1, 0, 0, 0, 1, 0, 0, 1, 0, 0, 0, 1,\n",
              "       0, 0, 0, 0, 1, 0, 0, 0, 0, 0, 1, 0, 1, 1, 1, 1, 0, 0, 1, 1, 0, 1,\n",
              "       0, 0, 0, 1, 0, 0, 0, 0, 0, 0, 1, 1, 0, 0, 0, 0, 1, 1, 0, 0, 0, 0,\n",
              "       0, 0, 0, 1, 1, 1, 1, 0, 1, 1, 0, 1, 1, 1, 0, 0, 1, 1, 1, 0, 0, 1,\n",
              "       0, 1])"
            ]
          },
          "metadata": {
            "tags": []
          },
          "execution_count": 42
        }
      ]
    },
    {
      "cell_type": "code",
      "metadata": {
        "id": "xOkdS6tF_RNo",
        "colab_type": "code",
        "colab": {}
      },
      "source": [
        "#Evaluating the performance\n",
        "from sklearn.metrics import confusion_matrix\n",
        "from sklearn import metrics\n",
        "ConfusionMatrix = metrics.confusion_matrix(y_test,Prediction)"
      ],
      "execution_count": 43,
      "outputs": []
    },
    {
      "cell_type": "code",
      "metadata": {
        "id": "ktMVYgTFHo3h",
        "colab_type": "code",
        "colab": {
          "base_uri": "https://localhost:8080/",
          "height": 34
        },
        "outputId": "4b28bb69-54b3-46ca-a35a-f58c766b74ce"
      },
      "source": [
        "score = LRClassifier.score(x_test, y_test)\n",
        "print(\"Accuracy:\",score)"
      ],
      "execution_count": 44,
      "outputs": [
        {
          "output_type": "stream",
          "text": [
            "Accuracy: 0.8731343283582089\n"
          ],
          "name": "stdout"
        }
      ]
    },
    {
      "cell_type": "code",
      "metadata": {
        "id": "mP58-RkY_zgY",
        "colab_type": "code",
        "colab": {
          "base_uri": "https://localhost:8080/",
          "height": 52
        },
        "outputId": "9476555a-4a63-470b-cd21-2076f767371c"
      },
      "source": [
        "ConfusionMatrix"
      ],
      "execution_count": 45,
      "outputs": [
        {
          "output_type": "execute_result",
          "data": {
            "text/plain": [
              "array([[79,  6],\n",
              "       [11, 38]])"
            ]
          },
          "metadata": {
            "tags": []
          },
          "execution_count": 45
        }
      ]
    },
    {
      "cell_type": "code",
      "metadata": {
        "id": "7n-d7_A1_2QN",
        "colab_type": "code",
        "colab": {
          "base_uri": "https://localhost:8080/",
          "height": 625
        },
        "outputId": "19d2b843-c969-42ab-d9df-fc0bc9720bb6"
      },
      "source": [
        "#Visualisation\n",
        "\n",
        "xx, yy = np.mgrid[-5:5:.01, -5:5:.01]\n",
        "grid = np.c_[xx.ravel(), yy.ravel()]\n",
        "probs = LRClassifier.predict_proba(grid)[:, 1].reshape(xx.shape)\n",
        "\n",
        "print(probs)\n",
        "\n",
        "f, ax = plt.subplots(figsize=(8, 6))\n",
        "contour = ax.contourf(xx, yy, probs, 25, cmap=\"RdBu\",\n",
        "                      vmin=0, vmax=1)\n",
        "ax_c = f.colorbar(contour)\n",
        "ax_c.set_label(\"$P(y = 1)$\")\n",
        "ax_c.set_ticks([0, .25, .5, .75, 1])\n",
        "\n",
        "ax.scatter(x_test[:, 0], x_test[:, 1],c = (y_test == 1 ), s=50,\n",
        "           cmap=\"RdBu\", vmin=-.2, vmax=1.2,\n",
        "           edgecolor=\"white\", linewidth=1)\n",
        "\n",
        "ax.set(aspect=\"equal\",\n",
        "       xlim=(-5, 5), ylim=(-5, 5),\n",
        "       xlabel=\"$X_1$\", ylabel=\"$X_2$\")\n",
        "\n",
        "plt.show()"
      ],
      "execution_count": 46,
      "outputs": [
        {
          "output_type": "stream",
          "text": [
            "[[9.99069280e-08 1.00884013e-07 1.01870655e-07 ... 1.63287202e-03\n",
            "  1.64881511e-03 1.66491360e-03]\n",
            " [1.01966149e-07 1.02963374e-07 1.03970351e-07 ... 1.66647170e-03\n",
            "  1.68274230e-03 1.69917149e-03]\n",
            " [1.04067814e-07 1.05085592e-07 1.06113325e-07 ... 1.70076159e-03\n",
            "  1.71736640e-03 1.73413305e-03]\n",
            " ...\n",
            " [9.85537432e-01 9.85675499e-01 9.85812266e-01 ... 9.99999104e-01\n",
            "  9.99999112e-01 9.99999121e-01]\n",
            " [9.85825365e-01 9.85960723e-01 9.86094806e-01 ... 9.99999122e-01\n",
            "  9.99999130e-01 9.99999139e-01]\n",
            " [9.86107647e-01 9.86240347e-01 9.86371796e-01 ... 9.99999139e-01\n",
            "  9.99999148e-01 9.99999156e-01]]\n"
          ],
          "name": "stdout"
        },
        {
          "output_type": "display_data",
          "data": {
            "image/png": "[encoded data removed]",
            "text/plain": [
              "<Figure size 576x432 with 2 Axes>"
            ]
          },
          "metadata": {
            "tags": [],
            "needs_background": "light"
          }
        }
      ]
    },
    {
      "cell_type": "markdown",
      "metadata": {
        "id": "2e57YbjqHH9R",
        "colab_type": "text"
      },
      "source": [
        "**ROC Curve**:\n",
        "\n",
        "Receiver Operating Characteristic(ROC) curve is a plot of the true positive rate against the false positive rate."
      ]
    },
    {
      "cell_type": "code",
      "metadata": {
        "id": "25DH7-S7BFg7",
        "colab_type": "code",
        "colab": {
          "base_uri": "https://localhost:8080/",
          "height": 265
        },
        "outputId": "e015c91b-0041-4cc5-aa1f-c9003d97a44e"
      },
      "source": [
        "y_pred_proba = LRClassifier.predict_proba(x_test)[::,1]\n",
        "fpr, tpr, _ = metrics.roc_curve(y_test,  y_pred_proba)\n",
        "auc = metrics.roc_auc_score(y_test, y_pred_proba)\n",
        "plt.plot(fpr,tpr,label=\"data 1, auc=\"+str(auc))\n",
        "plt.legend(loc=4)\n",
        "plt.show()\n"
      ],
      "execution_count": 47,
      "outputs": [
        {
          "output_type": "display_data",
          "data": {
            "image/png": "[encoded data removed]",
            "text/plain": [
              "<Figure size 432x288 with 1 Axes>"
            ]
          },
          "metadata": {
            "tags": [],
            "needs_background": "light"
          }
        }
      ]
    },
    {
      "cell_type": "markdown",
      "metadata": {
        "id": "sznnaRd3G2sF",
        "colab_type": "text"
      },
      "source": [
        "AUC score for the case is 0.94. AUC score 1 represents perfect classifier, and 0.5 represents a worthless classifier."
      ]
    },
    {
      "cell_type": "code",
      "metadata": {
        "id": "cB0z1zY0FtXo",
        "colab_type": "code",
        "colab": {}
      },
      "source": [
        ""
      ],
      "execution_count": null,
      "outputs": []
    }
  ]
}